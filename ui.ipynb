{
 "cells": [
  {
   "cell_type": "markdown",
   "source": [
    "# GEOGEAR\n",
    "This tool provides an easy-to-use method for generating integrated data products from disparate spatial data. \n",
    "* A graphical user interface allows the user to include spatial data of different file types and customize the requirements for the integrated data product.\n",
    "* Parallelization of compute-intensive steps and the use of distributed remote cloud computing, computational efficiency is achieved, even when large volume spatial data is used. \n",
    "* Provenance information on the execution of the tool and the generation of data products across distributed workflows is generated through the use of the PROV-O ontology and ISO-19115 metadata standard.\n",
    "\n",
    "In this notebook, the user first selects parameters (mask, projection, cell size) to create a grid that serves as a template for the integrated data product and the following functions. After that, the user selects combinations of spatial analysis functions and spatial layers that will be executed on the remote cloud infrastructure. The integrated data product and its provenance information will be returned to the user after completion of the analysis.\n",
    "\n",
    "All the user interactions with this notebook should be through the widgets (no coding is required). If any widgets are not loaded (correctly), please re-run that specific cell or re-run the whole notebook by pressing `>>` in the toolbar.\n",
    "\n",
    "This installment of GEOGEAR is still under development and can therefore still contain bugs. If you experience any issues or have questions, make sure to contact me (Tim Lenters) at timlenters@gmail.com."
   ],
   "metadata": {
    "tags": []
   }
  },
  {
   "cell_type": "markdown",
   "source": [
    "## Load prerequisites"
   ],
   "metadata": {}
  },
  {
   "cell_type": "raw",
   "source": [
    "!pip install --upgrade pip\r\n",
    "!pip install ipywidgets pyproj geopandas pygeos numpy matplotlib ipympl pybase64 termcolor prov googledrivedownloader tqdm rasterio time\r\n",
    "!jupyter nbextension enable --py widgetsnbextension\r\n",
    "!jupyter labextension install @jupyter-widgets/jupyterlab-manager\r\n",
    "!jupyter lab build"
   ],
   "metadata": {
    "tags": []
   }
  },
  {
   "cell_type": "code",
   "execution_count": 1,
   "source": [
    "import warnings\r\n",
    "warnings.filterwarnings(\"ignore\")\r\n",
    "import ipywidgets as widgets\r\n",
    "import pyproj\r\n",
    "import geopandas as gpd\r\n",
    "%matplotlib widget\r\n",
    "import matplotlib.pyplot as plt\r\n",
    "from termcolor import colored\r\n",
    "import os\r\n",
    "import fiona"
   ],
   "outputs": [],
   "metadata": {
    "tags": []
   }
  },
  {
   "cell_type": "markdown",
   "source": [
    "## 1. Load mask\n",
    "By clicking the \"Load mask\" button, a mask file can be selected from your local file directory. This can be any polygon layer (from a local to global extent), of any file format, as long as it consists of one file (i.e. ESRI Shapefiles (`.shp`)are not supported at this time, GeoPackage or GeoJSON are). \n",
    "\n",
    "If preferred, an example file can be used as mask by clicking \"Use example mask\" button. This is a GeoPackage boundary file of the Netherlands.\n"
   ],
   "metadata": {
    "tags": []
   }
  },
  {
   "cell_type": "code",
   "execution_count": 2,
   "source": [
    "load_mask = widgets.FileUpload(\r\n",
    "    description = \"Load mask\",\r\n",
    "    multiple = False\r\n",
    ")\r\n",
    "\r\n",
    "example_file = widgets.Button(\r\n",
    "    description = \"Use example mask\"\r\n",
    ")\r\n",
    "\r\n",
    "def mask_ex(_):\r\n",
    "    global mask_ex\r\n",
    "    load_mask._counter = 0\r\n",
    "    load_mask.value.clear()\r\n",
    "    mask_ex = \"NL_boundary.gpkg\"\r\n",
    "    with loaded_mask:\r\n",
    "        loaded_mask.clear_output()\r\n",
    "        print(\"NL_boundary.gpkg is loaded.\")\r\n",
    "\r\n",
    "def on_mask_change(_):\r\n",
    "    load_mask._counter = 1\r\n",
    "    with loaded_mask:\r\n",
    "        loaded_mask.clear_output()\r\n",
    "        print(str(list(load_mask.value.keys())[0]) + \" is loaded.\")\r\n",
    "    \r\n",
    "example_file.on_click(mask_ex)\r\n",
    "\r\n",
    "load_mask.observe(on_mask_change, 'value')\r\n",
    "\r\n",
    "loaded_mask = widgets.Output()\r\n",
    "\r\n",
    "display(widgets.HBox([load_mask,example_file]))\r\n",
    "display(loaded_mask)"
   ],
   "outputs": [
    {
     "output_type": "display_data",
     "data": {
      "text/plain": [
       "HBox(children=(FileUpload(value={}, description='Load mask'), Button(description='Use example mask', style=But…"
      ],
      "application/vnd.jupyter.widget-view+json": {
       "model_id": "456d7dce1eed4c5e8c752d70cb615e6b",
       "version_major": 2,
       "version_minor": 0
      }
     },
     "metadata": {}
    },
    {
     "output_type": "display_data",
     "data": {
      "text/plain": [
       "Output()"
      ],
      "application/vnd.jupyter.widget-view+json": {
       "model_id": "7daadad755ae472ba75188426f728e56",
       "version_major": 2,
       "version_minor": 0
      }
     },
     "metadata": {}
    }
   ],
   "metadata": {
    "jupyter": {
     "source_hidden": true
    },
    "tags": []
   }
  },
  {
   "cell_type": "markdown",
   "source": [
    "## 2. Select projection\n",
    "The dropdown-selection widget consists of all available projections as defined by the [PROJ](https://proj.org/) library. Some projections will not be valid without adding additional arguments and will show an error message when selected. The box below allows the user to add additional arguments to the proj4string to define projection details (e.g. define units, viewing angle or spatial extent). Click [this link](https://proj.org/usage/quickstart.html) for additional information on how to write these strings. "
   ],
   "metadata": {
    "tags": []
   }
  },
  {
   "cell_type": "code",
   "execution_count": 3,
   "source": [
    "proj_options = [(v, \"+proj=\"+k) for k, v in pyproj.pj_list.items()]\r\n",
    "\r\n",
    "proj_select = widgets.Dropdown(\r\n",
    "    options = proj_options,\r\n",
    "    value = \"+proj=eck4\",\r\n",
    "    continuous_update=False\r\n",
    ")\r\n",
    "\r\n",
    "proj_input = widgets.Text(\r\n",
    "    value = proj_select.value,\r\n",
    "    continuous_update=False\r\n",
    ")\r\n",
    "\r\n",
    "proj_link = widgets.link((proj_select, 'value'), (proj_input, 'value'))\r\n",
    "\r\n",
    "proj_error = widgets.Output()\r\n",
    "\r\n",
    "def on_proj_change(change):\r\n",
    "    try:\r\n",
    "        pyproj.CRS(proj_input.value)\r\n",
    "        proj_error.clear_output()\r\n",
    "    except pyproj.exceptions.CRSError:\r\n",
    "        with proj_error:\r\n",
    "            proj_error.clear_output()\r\n",
    "            print(colored(\"Select other projection or add parameters!\", 'red'))\r\n",
    "\r\n",
    "proj_input.observe(on_proj_change, 'value')\r\n",
    "    \r\n",
    "proj_vbox = widgets.VBox([proj_select, proj_input, proj_error])\r\n",
    "display(proj_vbox)"
   ],
   "outputs": [
    {
     "output_type": "display_data",
     "data": {
      "text/plain": [
       "VBox(children=(Dropdown(index=34, options=(('Adams Hemisphere in a Square', '+proj=adams_hemi'), ('Adams World…"
      ],
      "application/vnd.jupyter.widget-view+json": {
       "model_id": "d02e783f54ec4e4bab9bdf1070806598",
       "version_major": 2,
       "version_minor": 0
      }
     },
     "metadata": {}
    }
   ],
   "metadata": {
    "jupyter": {
     "source_hidden": true
    },
    "tags": []
   }
  },
  {
   "cell_type": "markdown",
   "source": [
    "## 3. Select cell size\n",
    "\n",
    "The cell size or grid resolution can be selected by using the following widgets. With the logarithmic slider, the desired order of magnitude for the grid cell size can be selected. To enter a more precise resolution, the box below the slider can be edited. The range of the slider and `unit:` depends on the selected projection, which is automatically updated.\n",
    "\n",
    "<span style=\"color:red\">IMPORTANT:</span> as the cloud backend is not yet fully established, I advise that a resolution <100 meters is not used at this time."
   ],
   "metadata": {}
  },
  {
   "cell_type": "code",
   "execution_count": 4,
   "source": [
    "def update_cellsize(value):\r\n",
    "    if pyproj.CRS(proj_input.value).axis_info[0].unit_name == 'degree':\r\n",
    "        cellsize_slider.min = -3\r\n",
    "        cellsize_slider.max = 3\r\n",
    "        cellsize_slider.value = 1\r\n",
    "        cellsize_slider.step = -4\r\n",
    "        cellsize_input.description = \"unit: degree\"\r\n",
    "    else:\r\n",
    "        cellsize_slider.min = 2\r\n",
    "        cellsize_slider.max = 7\r\n",
    "        cellsize_slider.value = 10000\r\n",
    "        cellsize_slider.step = 1\r\n",
    "        cellsize_input.description = \"unit: metre\"\r\n",
    "\r\n",
    "\r\n",
    "cellsize_slider = widgets.FloatLogSlider(\r\n",
    "    min = 2,\r\n",
    "    max = 7,\r\n",
    "    value = 10000,\r\n",
    "    step = 1\r\n",
    ")\r\n",
    "cellsize_input = widgets.FloatText(\r\n",
    "    value = cellsize_slider.value,\r\n",
    "    description = \"unit: metre\",\r\n",
    "    style=dict(description_width='initial'))\r\n",
    "proj_input.observe(update_cellsize, 'value')\r\n",
    "\r\n",
    "\r\n",
    "\r\n",
    "cz_link = widgets.link((cellsize_slider, 'value'), (cellsize_input, 'value'))\r\n",
    "\r\n",
    "display(cellsize_slider)\r\n",
    "display(cellsize_input)"
   ],
   "outputs": [
    {
     "output_type": "display_data",
     "data": {
      "text/plain": [
       "FloatLogSlider(value=10000.0, max=7.0, min=2.0, step=1.0)"
      ],
      "application/vnd.jupyter.widget-view+json": {
       "model_id": "1a47aa465ecc44faaeff2ff6830f0de5",
       "version_major": 2,
       "version_minor": 0
      }
     },
     "metadata": {}
    },
    {
     "output_type": "display_data",
     "data": {
      "text/plain": [
       "FloatText(value=10000.0, description='unit: metre', style=DescriptionStyle(description_width='initial'))"
      ],
      "application/vnd.jupyter.widget-view+json": {
       "model_id": "45d3a6cb8572426695480bf1beae1c5c",
       "version_major": 2,
       "version_minor": 0
      }
     },
     "metadata": {}
    }
   ],
   "metadata": {
    "jupyter": {
     "source_hidden": true
    },
    "tags": []
   }
  },
  {
   "cell_type": "markdown",
   "source": [
    "## 4. Make grid\n",
    "\n",
    "In this section, the selected grid parameters can be validated by plotting the grid on the mask. First, provide a username. This will be used to create a directory which holds the files you generate. After that, press \"Update plot\" to plot the grid. The progress bar gives an indication what is currently being done. You can interact with the plot (e.g. zooming, panning) with the toolbar on the left.\n",
    "\n",
    "<span style=\"color:red\">NOTE:</span> If the plot does not show after clicking the button, re-run this cell to fix the issue."
   ],
   "metadata": {
    "tags": []
   }
  },
  {
   "cell_type": "code",
   "execution_count": 5,
   "source": [
    "from functions import grid\r\n",
    "\r\n",
    "def make_grid(mask, cellsize, progress, path):\r\n",
    "    \r\n",
    "    if not os.path.exists(path + '/input'): os.makedirs(path + '/input')\r\n",
    "    if not os.path.exists(path + '/analysis'): os.makedirs(path + '/analysis')\r\n",
    "    \r\n",
    "    saga_cmd = \"saga_cmd\"\r\n",
    "    \r\n",
    "    \r\n",
    "    progress.description = \"Making grid...\"\r\n",
    "    progress.value += 1\r\n",
    "    doc = grid(mask, cellsize, path).serialize()\r\n",
    "    \r\n",
    "\r\n",
    "    if int(mask.area) / cellsize**2 < 200000:\r\n",
    "    \r\n",
    "        progress.description = \"Vectorizing grid...\"\r\n",
    "        progress.value += 1\r\n",
    "        os.system(saga_cmd\r\n",
    "                  + ' shapes_grid 3 -GRIDS ' + path + '/output/grid/grid.tif'\r\n",
    "                  + ' -SHAPES ' + path + '/input/grid_vector.gpkg'\r\n",
    "                  + ' -TYPE 1')\r\n",
    "    \r\n",
    "        return doc, True\r\n",
    "    \r\n",
    "    else:\r\n",
    "        return doc, False\r\n",
    "\r\n",
    "button = widgets.Button(description=\"Update plot\",\r\n",
    "                       disabled=True)\r\n",
    "out = widgets.Output()\r\n",
    "\r\n",
    "with out:\r\n",
    "    fig, ax = plt.subplots()\r\n",
    "    plt.show()\r\n",
    "\r\n",
    "progress = widgets.IntProgress(style=dict(description_width='initial'))\r\n",
    "\r\n",
    "def on_button_clicked(_):\r\n",
    "    global mask_reproj, grd_json, fig, path\r\n",
    "    \r\n",
    "    path = os.path.join(os.getcwd(), usr_input.value)\r\n",
    "    if not os.path.exists(path): os.makedirs(path)\r\n",
    "    \r\n",
    "    progress.max = 3\r\n",
    "    if load_mask.value != {}:\r\n",
    "        progress.max = 4\r\n",
    "        progress.description = \"Loading mask...\"\r\n",
    "        progress.value = 1\r\n",
    "        uploaded_filename = next(iter(load_mask.value))\r\n",
    "        content = load_mask.value[uploaded_filename]['content']\r\n",
    "        with fiona.io.MemoryFile(content) as mask:\r\n",
    "            with mask.open('mask.gpkg') as collection:\r\n",
    "                mask_reproj = gpd.GeoDataFrame.from_features(collection, crs=collection.crs).dissolve().to_crs(proj_input.value)\r\n",
    "    elif str(loaded_mask) == \"Output()\":\r\n",
    "        with out:\r\n",
    "            out.clear_output()\r\n",
    "            print(\"No mask file is loaded...\")\r\n",
    "        pass\r\n",
    "    else:\r\n",
    "        try:\r\n",
    "            mask_reproj = gpd.read_file(\"NL_boundary.gpkg\").to_crs(proj_input.value)\r\n",
    "        except (pyproj.exceptions.CRSError, StopIteration):\r\n",
    "            with out:\r\n",
    "                out.clear_output()\r\n",
    "                print(\"Invalid projection selected...\")\r\n",
    "    try:\r\n",
    "        cell_est = mask_reproj.area/cellsize_input.value**2\r\n",
    "        with out:\r\n",
    "            grd_json = make_grid(mask_reproj, cellsize_input.value, progress, path)\r\n",
    "            progress.description = \"Plotting grid...\"\r\n",
    "            progress.value += 1\r\n",
    "            if grd_json[1]:\r\n",
    "                grid = gpd.read_file(path + \"/input/grid_vector.gpkg\")\r\n",
    "                with out:\r\n",
    "                    plt.cla()\r\n",
    "                    mask_reproj.plot(ax=ax)\r\n",
    "                    grid.plot(ax=ax, facecolor=\"none\", edgecolor=\"black\", linewidth=0.5)\r\n",
    "                    plt.show()\r\n",
    "            else:\r\n",
    "                with out:\r\n",
    "                    print(\"Vectorizing would take too much time, proceeding without plotting grid.\")\r\n",
    "                    plt.cla()\r\n",
    "                    mask_reproj.plot(ax=ax)\r\n",
    "                    plt.show()\r\n",
    "            progress.value = 0\r\n",
    "            progress.description = \"\"\r\n",
    "    except NameError:\r\n",
    "        progress.value = 0\r\n",
    "        progress.description = \"\"\r\n",
    "        \r\n",
    "def enable_start(_):\r\n",
    "    if usr_input.value == '':\r\n",
    "        button.disabled = True\r\n",
    "    else:\r\n",
    "        button.disabled = False\r\n",
    "    \r\n",
    "usr_input = widgets.Text(\r\n",
    "    placeholder = \"Enter username\"\r\n",
    ")        \r\n",
    "   \r\n",
    "usr_input.observe(enable_start, 'value')\r\n",
    "button.on_click(on_button_clicked)\r\n",
    "\r\n",
    "display(widgets.HBox([usr_input, button]))\r\n",
    "display(progress)\r\n",
    "display(out)"
   ],
   "outputs": [
    {
     "output_type": "display_data",
     "data": {
      "text/plain": [
       "HBox(children=(Text(value='', placeholder='Enter username'), Button(description='Update plot', disabled=True, …"
      ],
      "application/vnd.jupyter.widget-view+json": {
       "model_id": "2c0148d8c5e0458d95b9d6e44827f837",
       "version_major": 2,
       "version_minor": 0
      }
     },
     "metadata": {}
    },
    {
     "output_type": "display_data",
     "data": {
      "text/plain": [
       "IntProgress(value=0, style=ProgressStyle(description_width='initial'))"
      ],
      "application/vnd.jupyter.widget-view+json": {
       "model_id": "411d8737034342b3b3ea261064f0c39f",
       "version_major": 2,
       "version_minor": 0
      }
     },
     "metadata": {}
    },
    {
     "output_type": "display_data",
     "data": {
      "text/plain": [
       "Output()"
      ],
      "application/vnd.jupyter.widget-view+json": {
       "model_id": "fdb5d7eadc0d44b18133a8d86af8d08b",
       "version_major": 2,
       "version_minor": 0
      }
     },
     "metadata": {}
    }
   ],
   "metadata": {
    "jupyter": {
     "source_hidden": true
    },
    "tags": []
   }
  },
  {
   "cell_type": "markdown",
   "source": [
    "## 5. Load layers\n",
    "In this section, you first select the function(s) that you want to execute. Currently, three functions can be selected. All three of these functions are based on [SAGA GIS](http://www.saga-gis.org/en/index.html) functions, a free and open-source software for geospatial analysis. \n",
    "\n",
    "The three functions are:\n",
    "* **coverages:** calculates the proportion of each grid cell that is covered by each feature of a categorical spatial layer. The input layers can be both vector and raster formats, as long as they describe categorical features. The output data consists of rasters (i.e. GeoTIFFs) with the coverages of each feature, as well as a table (i.e. CSV) which contains all combined coverages, with the columns `cell_ID` (unique IDs for each grid cell), `feature` (the name of each layer and the specific feature) and `proportion` (the proportion of the grid cell covered by each feature). More information about the SAGA function can be found [here](http://www.saga-gis.org/saga_tool_doc/7.7.0/grid_analysis_26.html).\n",
    "* **presence_absence:** can be used with point data and calculates for each grid cell if and how many points intersect with that cell. The input data is point (vector) data and its output consists of two rasters (GeoTIFFs), one for the presence/absence of points for each grid cell and the other for the count of points per grid cell. Additionally, these data are also provided as a table (CSV) with the columns `cell_ID`, `feature` (the name of each selected layer and if it is the presence/absence or count value) and `value` (the presence/absence (0 or 1) or count value). More information about the SAGA function can be found [here](http://www.saga-gis.org/saga_tool_doc/7.7.0/grid_gridding_0.html).\n",
    "* **resample:** can be used to aggregate the resolution of a raster and vector layers to the selected cell size. The input layers are rasters and can represent both continuous or categorical data. For continuous data, the mean value is calculated by default as grid cell aggregate and for categorical data, the most abundant value (majority) is taken as grid cell aggregate value. This function outputs the selected layer as a raster (GeoTIFF) with the resolution of the grid and a table (CSV) containing the `cell_ID`, `feature` (the name of the layer) and `value` (the value of each grid cell). More information about the SAGA function can be found [here](http://www.saga-gis.org/saga_tool_doc/7.7.0/grid_tools_0.html).\n",
    "\n",
    "Other than their main functionalities, each function also harmonizes the input layers. This consists of reprojecting the layers to the selected projection and converting them to the same format (e.g. rasterizing the vector layers). \n",
    "\n",
    "Second, you provide names of spatial layers (with their extension) and a URL to a Google Docs file. If you want to add multiple layers per function \"Add row\" can be clicked. After the names and URLs are filled in, click \"Add / Reset\" to add them to the dictionary. If you made a mistake during this, click the same button to remove that function from the dictionary. \n",
    "\n",
    "If you are using the example mask from section 1, the following layers can be used:\n",
    "\n",
    "* **GloRiC_NL.gpkg:** **URL:** https://drive.google.com/file/d/1aT9B5bIN3EABWoIBgx0DmOkHoHCVbbeU/view?usp=sharing; **type:** `Polyline`. This is a subset for the Netherlands of the \"Global River Classification\" dataset containing the `Reach_type` variable. More information can be found [here](https://www.hydrosheds.org/page/gloric).\n",
    "* **LGN5.tif:** **URL:** https://drive.google.com/file/d/1EP0rwpugKHke-Eo3O4tCWrdYuv3nNVnL/view?usp=sharing. **type:** `Raster`. This is the \"Dutch Land Use\" dataset. More information can be found [here](https://www.nationaalgeoregister.nl/geonetwork/srv/api/records/714c7cde-f8ed-4371-bb26-cb063e117d6e).\n",
    "* **mammal_obs.gpkg** **URL:** https://drive.google.com/file/d/1ysQZFYFnS1a1d9mqDd5yH7tDwG3zV3vV/view?usp=sharing. **type:** `Point`. This is a GBIF mammal observations dataset for the Netherlands. More information can be found [here](https://doi.org/10.15468/dl.55g7u2).\n",
    "\n",
    "It is also possible to use your own files. This can be any spatial file type (i.e. `Raster`, `Point`, `Polygon`, `Polyline`) as long as it is one file (so no `.shp`). Make sure to select \"Anyone with the link\" when getting the shareable link.\n",
    "\n",
    "After adding the files, below the \"Add / Reset\" button, a new dictionary entry appears. Here you can validate if you added the right layers to each function and if the names and links are spelled correctly.\n"
   ],
   "metadata": {
    "tags": []
   }
  },
  {
   "cell_type": "code",
   "execution_count": 6,
   "source": [
    "import pandas as pd\n",
    "from inspect import getmembers, isfunction\n",
    "import functions\n",
    "\n",
    "## Select functions\n",
    "\n",
    "func_lst = []\n",
    "for i in [o for o in getmembers(functions) if isfunction(o[1])]:\n",
    "    if i[0] not in ['setup','grid','download_layers', 'url_to_id', 'grid_statistics']:\n",
    "        func_lst.append(i[0])\n",
    "\n",
    "    \n",
    "func_select = widgets.RadioButtons(\n",
    "    options = func_lst\n",
    ")\n",
    "\n",
    "    \n",
    "## Select layers\n",
    "\n",
    "\n",
    "add_row_btn = widgets.Button(description='Add Row')\n",
    "rm_row_btn = widgets.Button(description='Remove Row')\n",
    "\n",
    "out = widgets.Output()\n",
    "\n",
    "def add_row(_):\n",
    "    file_name_box.children += (widgets.Text(),)\n",
    "    file_url_box.children += (widgets.Text(),)\n",
    "        \n",
    "def rm_row(_):\n",
    "    file_name_box.children -= (widgets.Text(),)\n",
    "    file_url_box.children -= (widgets.Text(),)\n",
    "    \n",
    "add_row_btn.on_click(add_row)\n",
    "rm_row_btn.on_click(rm_row)\n",
    "\n",
    "df = pd.DataFrame()\n",
    "\n",
    "\n",
    "## Add function\n",
    "\n",
    "add_btn = widgets.Button(\n",
    "    description = \"Add / Reset\"\n",
    ")\n",
    "\n",
    "output_tbl = widgets.Output()\n",
    "\n",
    "tbl = dict()\n",
    "\n",
    "def add_functions(b):\n",
    "    global tbl\n",
    "    output_tbl.clear_output()\n",
    "    \n",
    "    file_names = []\n",
    "    for i in range(len(file_name_box.children)):\n",
    "        file_names.append({file_name_box.children[i].value:\n",
    "                           file_url_box.children[i].value})\n",
    "\n",
    "    \n",
    "    if file_names == [{'': ''}]:\n",
    "        tbl.pop(func_select.value, None)\n",
    "    else:\n",
    "        tbl[func_select.value] = file_names\n",
    "        \n",
    "    file_name_box.children = [widgets.Text()]\n",
    "    file_url_box.children = [widgets.Text()]\n",
    "    \n",
    "    with output_tbl:\n",
    "        for x in tbl:\n",
    "            print(x+\":\")\n",
    "            for y in tbl[x]:\n",
    "                print(\"   Name: \", list(y.keys())[0])\n",
    "                print(\"   URL:  \", list(y.values())[0],\"\\n\")\n",
    "\n",
    "add_btn.on_click(add_functions)\n",
    "\n",
    "\n",
    "file_name_box = widgets.VBox(children=[widgets.Text()])\n",
    "file_url_box = widgets.VBox(children=[widgets.Text()])\n",
    "\n",
    "\n",
    "display(widgets.HBox([widgets.VBox([widgets.Label(\"Select function:\"), func_select]), \n",
    "                      widgets.VBox([widgets.Label(\"Select layers:\"), widgets.HBox([widgets.VBox([widgets.Label(value=\"File Name:\"), file_name_box, add_row_btn]), \n",
    "                                                                                   widgets.VBox([widgets.Label(value=\"File URL:\"), file_url_box])])])]))\n",
    "display(add_btn)\n",
    "display(output_tbl)\n",
    "#LGN5.tif: https://drive.google.com/file/d/1EP0rwpugKHke-Eo3O4tCWrdYuv3nNVnL/view?usp=sharing\n",
    "#GloRiC_NL.gpkg: https://drive.google.com/file/d/1aT9B5bIN3EABWoIBgx0DmOkHoHCVbbeU/view?usp=sharing\n",
    "#zip: https://drive.google.com/file/d/15LX2X1z9ehkVxZvFq1NLQqqN0cNMIbTE/view?usp=sharing\n",
    "#mammals.gpkg: https://drive.google.com/file/d/1ysQZFYFnS1a1d9mqDd5yH7tDwG3zV3vV/view?usp=sharing"
   ],
   "outputs": [
    {
     "output_type": "display_data",
     "data": {
      "text/plain": [
       "HBox(children=(VBox(children=(Label(value='Select function:'), RadioButtons(options=('coverages', 'presence_ab…"
      ],
      "application/vnd.jupyter.widget-view+json": {
       "model_id": "2bc167ddcb774fe1ae7f638b9efe4780",
       "version_major": 2,
       "version_minor": 0
      }
     },
     "metadata": {}
    },
    {
     "output_type": "display_data",
     "data": {
      "text/plain": [
       "Button(description='Add / Reset', style=ButtonStyle())"
      ],
      "application/vnd.jupyter.widget-view+json": {
       "model_id": "6ebc349f1241466e990b0fb650485e17",
       "version_major": 2,
       "version_minor": 0
      }
     },
     "metadata": {}
    },
    {
     "output_type": "display_data",
     "data": {
      "text/plain": [
       "Output()"
      ],
      "application/vnd.jupyter.widget-view+json": {
       "model_id": "40f285f534e1450992aa6798dc22f2da",
       "version_major": 2,
       "version_minor": 0
      }
     },
     "metadata": {}
    }
   ],
   "metadata": {
    "jupyter": {
     "source_hidden": true
    },
    "tags": []
   }
  },
  {
   "cell_type": "markdown",
   "source": [
    "## 6. Start analysis\n",
    "\n",
    "As a last step, please select the file format(s) for exporting the generated provenance data. After that, the analysis can be started by pressing the \"Start analysis\" button. The progress will be recorded here to give an indication on the workflow execution.\n",
    "\n",
    "After the analysis is finished, the file structure of the integrated data product is shown below."
   ],
   "metadata": {}
  },
  {
   "cell_type": "code",
   "execution_count": 9,
   "source": [
    "from backend import analysis\n",
    "from distutils.dir_util import copy_tree\n",
    "from time import time\n",
    "import importlib\n",
    "import sys\n",
    "import shutil\n",
    "\n",
    "importlib.reload(sys.modules['backend'])\n",
    "%reload_ext autoreload\n",
    "%autoreload 2\n",
    "from backend import analysis\n",
    "\n",
    "\n",
    "import logging\n",
    "logger = logging.getLogger()\n",
    "logger.setLevel(logging.ERROR)\n",
    "\n",
    "import os\n",
    "\n",
    "def list_files(startpath):\n",
    "    for root, dirs, files in os.walk(startpath):\n",
    "        level = root.replace(startpath, '').count(os.sep)\n",
    "        indent = ' ' * 4 * (level)\n",
    "        print('{}{}/'.format(indent, os.path.basename(root)))\n",
    "        subindent = ' ' * 4 * (level + 1)\n",
    "        for f in files:\n",
    "            print('{}{}'.format(subindent, f))\n",
    "         \n",
    "            \n",
    "def start_analysis(_):\n",
    "    log.clear_output()\n",
    "    try:\n",
    "        with log:\n",
    "            analysis(cellsize=cellsize_input.value,\n",
    "                     projection=proj_input.value,\n",
    "                     layers_dict=tbl,\n",
    "                     grd_json=grd_json[0],\n",
    "                     path=path,\n",
    "                     prov=exp_prov.value)\n",
    "            print(\"Analysis completed!\\n\")\n",
    "            print(\"The integrated data product consists of the following files:\")\n",
    "            list_files(path + \"/output\")\n",
    "\n",
    "        shutil.make_archive(path, 'zip', os.path.join(path,'output'))\n",
    "    except NameError:\n",
    "        with log:\n",
    "            log.clear_output()\n",
    "            print(\"Create grid first!\")\n",
    "\n",
    "    \n",
    "exp_prov = widgets.SelectMultiple(\n",
    "    options = [\"PNG\",\"PDF\",\"JSON\",\"XML\",\"RDF\"]\n",
    ")\n",
    "    \n",
    "start_btn = widgets.Button(\n",
    "    description = \"Start analysis\",\n",
    "    disabled = False\n",
    ")\n",
    "\n",
    "start_btn.on_click(start_analysis)\n",
    "\n",
    "log = widgets.Output()\n",
    "\n",
    "display(widgets.Label(\"Export provenance data as:\"))\n",
    "display(exp_prov)\n",
    "display(start_btn)\n",
    "display(log)"
   ],
   "outputs": [
    {
     "output_type": "display_data",
     "data": {
      "text/plain": [
       "Label(value='Export provenance data as:')"
      ],
      "application/vnd.jupyter.widget-view+json": {
       "model_id": "d563a4a1041c452799e147504e0c1e6b",
       "version_major": 2,
       "version_minor": 0
      }
     },
     "metadata": {}
    },
    {
     "output_type": "display_data",
     "data": {
      "text/plain": [
       "SelectMultiple(options=('PNG', 'PDF', 'JSON', 'XML', 'RDF'), value=())"
      ],
      "application/vnd.jupyter.widget-view+json": {
       "model_id": "3d9943704bb1454bb870a3ca0f75ed25",
       "version_major": 2,
       "version_minor": 0
      }
     },
     "metadata": {}
    },
    {
     "output_type": "display_data",
     "data": {
      "text/plain": [
       "Button(description='Start analysis', style=ButtonStyle())"
      ],
      "application/vnd.jupyter.widget-view+json": {
       "model_id": "12f6a4f8dc144b69a060f6346d50697b",
       "version_major": 2,
       "version_minor": 0
      }
     },
     "metadata": {}
    },
    {
     "output_type": "display_data",
     "data": {
      "text/plain": [
       "Output()"
      ],
      "application/vnd.jupyter.widget-view+json": {
       "model_id": "2bcc25bab0504177bb92e02bd0580133",
       "version_major": 2,
       "version_minor": 0
      }
     },
     "metadata": {}
    }
   ],
   "metadata": {
    "jupyter": {
     "source_hidden": true
    },
    "tags": []
   }
  }
 ],
 "metadata": {
  "interpreter": {
   "hash": "04635d289a519a1410467dd0afb0db42f9184808881ca68b2eb5a687a20a5a94"
  },
  "kernelspec": {
   "name": "python3",
   "display_name": "Python 3.7.9 64-bit"
  },
  "language_info": {
   "codemirror_mode": {
    "name": "ipython",
    "version": 3
   },
   "file_extension": ".py",
   "mimetype": "text/x-python",
   "name": "python",
   "nbconvert_exporter": "python",
   "pygments_lexer": "ipython3",
   "version": "3.7.9"
  },
  "toc-autonumbering": false,
  "toc-showcode": false,
  "toc-showmarkdowntxt": false,
  "toc-showtags": false
 },
 "nbformat": 4,
 "nbformat_minor": 4
}